{
 "cells": [
  {
   "cell_type": "markdown",
   "id": "ffd47ced",
   "metadata": {},
   "source": [
    "# Трудоустройство выпускников Яндекс.Практикума. Предобработка данных"
   ]
  },
  {
   "cell_type": "markdown",
   "id": "8570348e",
   "metadata": {},
   "source": [
    "## Библиотеки"
   ]
  },
  {
   "cell_type": "code",
   "execution_count": 1,
   "id": "ecb9b00e",
   "metadata": {},
   "outputs": [],
   "source": [
    "import pandas as pd\n",
    "from datetime import datetime\n",
    "import pytz\n",
    "\n",
    "import warnings\n",
    "warnings.filterwarnings('ignore')"
   ]
  },
  {
   "cell_type": "markdown",
   "id": "d30d37a8",
   "metadata": {},
   "source": [
    "## Загрузка набора данных"
   ]
  },
  {
   "cell_type": "code",
   "execution_count": 2,
   "id": "7dbe0c15",
   "metadata": {},
   "outputs": [],
   "source": [
    "df = pd.read_csv('Исследование выпускников ЯП.csv')\n",
    "# файл .csv должен лежать в той же директория, что и проект .ipynb"
   ]
  },
  {
   "cell_type": "code",
   "execution_count": 3,
   "id": "c3b07ec1",
   "metadata": {},
   "outputs": [
    {
     "data": {
      "text/html": [
       "<div>\n",
       "<style scoped>\n",
       "    .dataframe tbody tr th:only-of-type {\n",
       "        vertical-align: middle;\n",
       "    }\n",
       "\n",
       "    .dataframe tbody tr th {\n",
       "        vertical-align: top;\n",
       "    }\n",
       "\n",
       "    .dataframe thead th {\n",
       "        text-align: right;\n",
       "    }\n",
       "</style>\n",
       "<table border=\"1\" class=\"dataframe\">\n",
       "  <thead>\n",
       "    <tr style=\"text-align: right;\">\n",
       "      <th></th>\n",
       "      <th>Отметка времени</th>\n",
       "      <th>Твой пол</th>\n",
       "      <th>Твой возраст</th>\n",
       "      <th>Твоё образование</th>\n",
       "      <th>Твоё образование релевантно новой профессии</th>\n",
       "      <th>Программа обучения ЯП</th>\n",
       "      <th>Номер твоей когорты (в которой начинал обучение, только цифры)</th>\n",
       "      <th>Год окончания обучения</th>\n",
       "      <th>Ты закончил в той же когорте, что и начинал?</th>\n",
       "      <th>Насколько сложно было проходить обучение?</th>\n",
       "      <th>Изучал ли доп.материалы помимо программы курса?</th>\n",
       "      <th>У тебя есть опыт работы? Он релевантен новой профессии?</th>\n",
       "      <th>Ты нашел работу по новой профессии?</th>\n",
       "      <th>Когда ты начал искать новую работу?</th>\n",
       "      <th>Сколько времени понадобилось на поиск (для тех, кто нашел работу/стажировку)?</th>\n",
       "      <th>Чем пользовался для поиска работы?</th>\n",
       "      <th>Что в итоге сработало?</th>\n",
       "    </tr>\n",
       "  </thead>\n",
       "  <tbody>\n",
       "    <tr>\n",
       "      <th>0</th>\n",
       "      <td>2023/09/04 6:56:14 PM GMT+3</td>\n",
       "      <td>Мужской</td>\n",
       "      <td>20 - 30 лет</td>\n",
       "      <td>Высшее - специалитет</td>\n",
       "      <td>Не релевантно</td>\n",
       "      <td>DS</td>\n",
       "      <td>3</td>\n",
       "      <td>2023</td>\n",
       "      <td>Да</td>\n",
       "      <td>Было терпимо, иногда прибегал к помощи одногру...</td>\n",
       "      <td>Да, изучил все рекомендации от ревьюеров/наста...</td>\n",
       "      <td>Да, есть опыт работы, но не релевантный</td>\n",
       "      <td>Нет, но ищу</td>\n",
       "      <td>Спустя какое-то время, после обучения</td>\n",
       "      <td>Не нашел, но ищу</td>\n",
       "      <td>HH</td>\n",
       "      <td>Не нашел, но ищу</td>\n",
       "    </tr>\n",
       "    <tr>\n",
       "      <th>1</th>\n",
       "      <td>2023/09/04 6:56:19 PM GMT+3</td>\n",
       "      <td>Женский</td>\n",
       "      <td>30 - 40 лет</td>\n",
       "      <td>Высшее - магистратура</td>\n",
       "      <td>Релевантно сфере IT</td>\n",
       "      <td>DS</td>\n",
       "      <td>8</td>\n",
       "      <td>2023</td>\n",
       "      <td>Нет</td>\n",
       "      <td>Всё было понятно и легко</td>\n",
       "      <td>Да, читаю статьи по интересующим темам</td>\n",
       "      <td>Да, есть опыт работы, но не релевантный</td>\n",
       "      <td>Нет, но ищу</td>\n",
       "      <td>Сразу после окончания обучения</td>\n",
       "      <td>Не нашел, но ищу</td>\n",
       "      <td>HH;SuperJob;LinkedIn;Хабр Карьера;Careerspace;...</td>\n",
       "      <td>Не нашел, но ищу</td>\n",
       "    </tr>\n",
       "    <tr>\n",
       "      <th>2</th>\n",
       "      <td>2023/09/04 6:56:21 PM GMT+3</td>\n",
       "      <td>Мужской</td>\n",
       "      <td>30 - 40 лет</td>\n",
       "      <td>Высшее - специалитет</td>\n",
       "      <td>Релевантно сфере IT</td>\n",
       "      <td>DS</td>\n",
       "      <td>41</td>\n",
       "      <td>2022</td>\n",
       "      <td>Да</td>\n",
       "      <td>Было терпимо, иногда прибегал к помощи одногру...</td>\n",
       "      <td>Да, изучил все рекомендации от ревьюеров/наста...</td>\n",
       "      <td>Да, есть опыт работы, но не релевантный</td>\n",
       "      <td>Да, нашел новую работу</td>\n",
       "      <td>Сразу после окончания обучения</td>\n",
       "      <td>1 - 3 месяца с начала поиска</td>\n",
       "      <td>HH</td>\n",
       "      <td>Агрегаторы вакансий (HH, SuperJob, Работа.Ру)</td>\n",
       "    </tr>\n",
       "  </tbody>\n",
       "</table>\n",
       "</div>"
      ],
      "text/plain": [
       "               Отметка времени Твой пол Твой возраст       Твоё образование  \\\n",
       "0  2023/09/04 6:56:14 PM GMT+3  Мужской  20 - 30 лет   Высшее - специалитет   \n",
       "1  2023/09/04 6:56:19 PM GMT+3  Женский  30 - 40 лет  Высшее - магистратура   \n",
       "2  2023/09/04 6:56:21 PM GMT+3  Мужской  30 - 40 лет   Высшее - специалитет   \n",
       "\n",
       "  Твоё образование релевантно новой профессии Программа обучения ЯП  \\\n",
       "0                               Не релевантно                    DS   \n",
       "1                         Релевантно сфере IT                    DS   \n",
       "2                         Релевантно сфере IT                    DS   \n",
       "\n",
       "  Номер твоей когорты (в которой начинал обучение, только цифры)  \\\n",
       "0                                                  3               \n",
       "1                                                  8               \n",
       "2                                                 41               \n",
       "\n",
       "   Год окончания обучения Ты закончил в той же когорте, что и начинал?  \\\n",
       "0                    2023                                           Да   \n",
       "1                    2023                                          Нет   \n",
       "2                    2022                                           Да   \n",
       "\n",
       "           Насколько сложно было проходить обучение?  \\\n",
       "0  Было терпимо, иногда прибегал к помощи одногру...   \n",
       "1                           Всё было понятно и легко   \n",
       "2  Было терпимо, иногда прибегал к помощи одногру...   \n",
       "\n",
       "     Изучал ли доп.материалы помимо программы курса?  \\\n",
       "0  Да, изучил все рекомендации от ревьюеров/наста...   \n",
       "1             Да, читаю статьи по интересующим темам   \n",
       "2  Да, изучил все рекомендации от ревьюеров/наста...   \n",
       "\n",
       "  У тебя есть опыт работы? Он релевантен новой профессии?  \\\n",
       "0            Да, есть опыт работы, но не релевантный        \n",
       "1            Да, есть опыт работы, но не релевантный        \n",
       "2            Да, есть опыт работы, но не релевантный        \n",
       "\n",
       "  Ты нашел работу по новой профессии?    Когда ты начал искать новую работу?  \\\n",
       "0                         Нет, но ищу  Спустя какое-то время, после обучения   \n",
       "1                         Нет, но ищу         Сразу после окончания обучения   \n",
       "2              Да, нашел новую работу         Сразу после окончания обучения   \n",
       "\n",
       "  Сколько времени понадобилось на поиск (для тех, кто нашел работу/стажировку)?  \\\n",
       "0                                   Не нашел, но ищу                              \n",
       "1                                   Не нашел, но ищу                              \n",
       "2                       1 - 3 месяца с начала поиска                              \n",
       "\n",
       "                  Чем пользовался для поиска работы?  \\\n",
       "0                                                 HH   \n",
       "1  HH;SuperJob;LinkedIn;Хабр Карьера;Careerspace;...   \n",
       "2                                                 HH   \n",
       "\n",
       "                          Что в итоге сработало?  \n",
       "0                               Не нашел, но ищу  \n",
       "1                               Не нашел, но ищу  \n",
       "2  Агрегаторы вакансий (HH, SuperJob, Работа.Ру)  "
      ]
     },
     "execution_count": 3,
     "metadata": {},
     "output_type": "execute_result"
    }
   ],
   "source": [
    "df.head(3)"
   ]
  },
  {
   "cell_type": "markdown",
   "id": "0d78609e",
   "metadata": {},
   "source": [
    "## Названия столбцов"
   ]
  },
  {
   "cell_type": "markdown",
   "id": "3ece6a7d",
   "metadata": {},
   "source": [
    "В наборе данных вопросы исследования являются названиями для столбцов. Для дальнейшей работы из следует переименовать."
   ]
  },
  {
   "cell_type": "markdown",
   "id": "72806ff2",
   "metadata": {},
   "source": [
    "__Изменение названий для столбов:__\n",
    "- `dttime` - 'Отметка времени' (Московское время)\n",
    "- `gender` - 'Твой пол'\n",
    "- `age` - 'Твой возраст'\n",
    "- `education` - 'Твоё образование'\n",
    "- `it_education` - 'Твоё образование релевантно новой профессии'\n",
    "- `yp_course` - 'Программа обучения ЯП'\n",
    "- `cohort` - 'Номер твоей когорты (в которой начинал обучение, только цифры)'\n",
    "- `graduation_year` - 'Год окончания обучения'\n",
    "- `academ` - 'Ты закончил в той же когорте, что и начинал?'\n",
    "- `complexity` - 'Насколько сложно было проходить обучение?'\n",
    "- `extra_materials` - 'Изучал ли доп.материалы помимо программы курса?'\n",
    "- `experience` - 'У тебя есть опыт работы? Он релевантен новой профессии?'\n",
    "- `employment` - 'Ты нашел работу по новой профессии?'\n",
    "- `search_start` - 'Когда ты начал искать новую работу?'\n",
    "- `search_period` - 'Сколько времени понадобилось на поиск (для тех, кто нашел работу/стажировку)?'\n",
    "- `search_tools` - 'Чем пользовался для поиска работы?'\n",
    "- `worked_tool` - 'Что в итоге сработало?'"
   ]
  },
  {
   "cell_type": "code",
   "execution_count": 4,
   "id": "ae19cd47",
   "metadata": {},
   "outputs": [],
   "source": [
    "df = df.rename(columns={'Отметка времени': 'dttime', \n",
    "                        'Твой пол': 'gender', \n",
    "                        'Твой возраст': 'age', \n",
    "                        'Твоё образование': 'education', \n",
    "                        'Твоё образование релевантно новой профессии': 'it_education', \n",
    "                        'Программа обучения ЯП': 'yp_course', \n",
    "                        'Номер твоей когорты (в которой начинал обучение, только цифры)': 'cohort', \n",
    "                        'Год окончания обучения': 'graduation_year', \n",
    "                        'Ты закончил в той же когорте, что и начинал?': 'academ', \n",
    "                        'Насколько сложно было проходить обучение?': 'complexity', \n",
    "                        'Изучал ли доп.материалы помимо программы курса?': 'extra_materials', \n",
    "                        'У тебя есть опыт работы? Он релевантен новой профессии?': 'experience', \n",
    "                        'Ты нашел работу по новой профессии?': 'employment', \n",
    "                        'Когда ты начал искать новую работу?': 'search_start', \n",
    "                        'Сколько времени понадобилось на поиск (для тех, кто нашел работу/стажировку)?': 'search_period', \n",
    "                        'Чем пользовался для поиска работы?': 'search_tools', \n",
    "                        'Что в итоге сработало?': 'worked_tool'\n",
    "                       })"
   ]
  },
  {
   "cell_type": "markdown",
   "id": "d81bce55",
   "metadata": {},
   "source": [
    "## Поиск ошибок и редактирование данных"
   ]
  },
  {
   "cell_type": "markdown",
   "id": "6d6f47de",
   "metadata": {},
   "source": [
    "Как заполнялись столбцы в опросе:\n",
    "- `date_time` - __авто дата текстом__\n",
    "- `gender` - выбор\n",
    "- `age` - выбор\n",
    "- `education` - выбор\n",
    "- `it_education` - выбор\n",
    "- `yp_course` - выбор\n",
    "- `cohort` - __ответ вписывается вручную! возможны ошибки__\n",
    "- `graduation_year` - __ответ вписывается вручную! возможны ошибки__\n",
    "- `academ` - да/нет\n",
    "- `complexity` - выбор\n",
    "- `extra_materials` - выбор\n",
    "- `experience` - выбор\n",
    "- `employment` - выбор\n",
    "- `search_start` - выбор\n",
    "- `search_period` - выбор текст (может цифрами?)\n",
    "- `search_tools` - __мультивыбор__ создать отдельную таблицу\n",
    "- `worked_tool` - выбор"
   ]
  },
  {
   "cell_type": "code",
   "execution_count": 5,
   "id": "05ec6b5e",
   "metadata": {},
   "outputs": [
    {
     "name": "stdout",
     "output_type": "stream",
     "text": [
      "\u001b[4m\u001b[1mcohort\u001b[0m:\n",
      "3, 8, 41, 16, 39, 60, 67, 54, 66, 61, 56, Долго искать, 55, 64, 32, 08, 57, 9, 63, 33, DS31, 52, 50, 58, 35, 26, 14, 53, 65, 31, 25, 46, 45, 44, 13, 68, 59, 36, 42, 38, 40, 48, 49, 37\n",
      "\n",
      "\u001b[4m\u001b[1mgraduation_year\u001b[0m:\n",
      "2023, 2022, 2013, 2021, 23, 22\n",
      "\n"
     ]
    }
   ],
   "source": [
    "#посмотрим списки уникальных значений в столбцах с ручным вводом данных\n",
    "for column in ['cohort', 'graduation_year']:\n",
    "    print('\\033[4m' + '\\033[1m' + column + '\\033[0m', ':', sep='')\n",
    "    print(*df[column].unique(), sep=', ')\n",
    "    print()"
   ]
  },
  {
   "cell_type": "code",
   "execution_count": 6,
   "id": "a2c3e9a4",
   "metadata": {},
   "outputs": [],
   "source": [
    "# если только текст, заменить на 0 (равноценно пропуску в данных)\n",
    "# убрать первые нули\n",
    "# убрать буквы, если они есть\n",
    "df['cohort'] = (df['cohort']\n",
    "                 .replace('^\\D+$', '0', regex=True)\n",
    "                 .replace('^0+\\B', '', regex=True)\n",
    "                 .replace('^\\D+\\B', '', regex=True)\n",
    "                )"
   ]
  },
  {
   "cell_type": "code",
   "execution_count": 7,
   "id": "067f4c37",
   "metadata": {},
   "outputs": [],
   "source": [
    "# тут довольно грубая обработка, лучше сделать потом подругому\n",
    "df.loc[df['graduation_year'] == 23, 'graduation_year'] = 2023\n",
    "df.loc[df['graduation_year'] == 22, 'graduation_year'] = 2022\n",
    "df.loc[df['graduation_year'] == 2013, 'graduation_year'] = 2023"
   ]
  },
  {
   "cell_type": "code",
   "execution_count": 8,
   "id": "b40cc2fc",
   "metadata": {},
   "outputs": [
    {
     "data": {
      "text/plain": [
       "0   2023-09-04 18:56:14\n",
       "1   2023-09-04 18:56:19\n",
       "2   2023-09-04 18:56:21\n",
       "Name: dttime, dtype: datetime64[ns]"
      ]
     },
     "execution_count": 8,
     "metadata": {},
     "output_type": "execute_result"
    }
   ],
   "source": [
    "# преобразоватение типа данных для даты и времени\n",
    "df['dttime'] = pd.to_datetime(df['dttime']).apply(lambda x: x.replace(tzinfo=None))\n",
    "df['dttime'].head(3)"
   ]
  },
  {
   "cell_type": "markdown",
   "id": "1d18a7f4",
   "metadata": {},
   "source": [
    "## Создание набора данных с информацией по инструментам для поиска работы"
   ]
  },
  {
   "cell_type": "code",
   "execution_count": 9,
   "id": "73829e59",
   "metadata": {},
   "outputs": [],
   "source": [
    "#df['id'] = df['dttime'].apply(id)\n",
    "\n",
    "# создание айдишников по индексам (может и не обязательно), по ним потом создаю отдельную таблицу для информации о том, чем пользовались для поиска работы\n",
    "df['id'] = [id(x) for x in df.index]"
   ]
  },
  {
   "cell_type": "code",
   "execution_count": 10,
   "id": "3137534c",
   "metadata": {
    "scrolled": true
   },
   "outputs": [
    {
     "data": {
      "text/plain": [
       "array(['HH',\n",
       "       'HH;SuperJob;LinkedIn;Хабр Карьера;Careerspace;Каналы/чаты с вакансиями в ТГ;Нетворкинг;Каналы/чаты от ЯП;',\n",
       "       'HH;Каналы/чаты с вакансиями в ТГ;Каналы/чаты от ЯП', 'Не искал',\n",
       "       'HH;SuperJob;GeekJob',\n",
       "       'HH;Хабр Карьера;Каналы/чаты с вакансиями в ТГ;Каналы/чаты от ЯП',\n",
       "       'HH;Нетворкинг',\n",
       "       'HH;LinkedIn;Хабр Карьера;GeekJob;Каналы/чаты с вакансиями в ТГ;Нетворкинг;Каналы/чаты от ЯП',\n",
       "       'HH;Каналы/чаты с вакансиями в ТГ',\n",
       "       'HH;SuperJob;LinkedIn;Хабр Карьера;GeekJob;Каналы/чаты с вакансиями в ТГ',\n",
       "       'HH;SuperJob;Работа.ру;Хабр Карьера;Каналы/чаты с вакансиями в ТГ;Каналы/чаты от ЯП',\n",
       "       'HH;LinkedIn;Нетворкинг;Каналы/чаты от ЯП',\n",
       "       'HH;Работа.ру;Хабр Карьера;Каналы/чаты с вакансиями в ТГ;Нетворкинг;Каналы/чаты от ЯП',\n",
       "       'HH;SuperJob;Хабр Карьера;GeekJob;Каналы/чаты с вакансиями в ТГ;Каналы/чаты от ЯП',\n",
       "       'HH;LinkedIn',\n",
       "       'HH;Хабр Карьера;GeekJob;Каналы/чаты с вакансиями в ТГ',\n",
       "       'HH;SuperJob;Работа.ру;LinkedIn;Хабр Карьера;GeekJob;Careerspace;Каналы/чаты с вакансиями в ТГ;Нетворкинг;Каналы/чаты от ЯП',\n",
       "       'HH;Хабр Карьера;Каналы/чаты с вакансиями в ТГ;Нетворкинг',\n",
       "       'HH;Работа.ру;LinkedIn;Хабр Карьера;GeekJob;Careerspace;Каналы/чаты с вакансиями в ТГ;Нетворкинг;Каналы/чаты от ЯП',\n",
       "       'HH;Хабр Карьера;Каналы/чаты с вакансиями в ТГ',\n",
       "       'HH;Каналы/чаты от ЯП', 'HH;GeekJob;Каналы/чаты с вакансиями в ТГ',\n",
       "       'HH;LinkedIn;Хабр Карьера;GeekJob;Каналы/чаты с вакансиями в ТГ;Нетворкинг',\n",
       "       'HH;LinkedIn;Каналы/чаты с вакансиями в ТГ',\n",
       "       'HH;Хабр Карьера;Каналы/чаты от ЯП',\n",
       "       'HH;LinkedIn;Каналы/чаты от ЯП',\n",
       "       'HH;Каналы/чаты с вакансиями в ТГ;Нетворкинг',\n",
       "       'HH;SuperJob;LinkedIn;Хабр Карьера;GeekJob;Careerspace;Каналы/чаты с вакансиями в ТГ;Нетворкинг;Каналы/чаты от ЯП',\n",
       "       'HH;LinkedIn;Каналы/чаты с вакансиями в ТГ;Каналы/чаты от ЯП',\n",
       "       'подошла к руководителю отдела аналитики с просьбой постажироваться у них',\n",
       "       'HH;SuperJob;LinkedIn;Каналы/чаты с вакансиями в ТГ',\n",
       "       'LinkedIn;Каналы/чаты с вакансиями в ТГ;Нетворкинг',\n",
       "       'HH;LinkedIn;Хабр Карьера;GeekJob;Каналы/чаты с вакансиями в ТГ',\n",
       "       'HH;Хабр Карьера;GeekJob;Careerspace;Каналы/чаты с вакансиями в ТГ;Каналы/чаты от ЯП',\n",
       "       'HH;LinkedIn;Хабр Карьера;Каналы/чаты с вакансиями в ТГ',\n",
       "       'HH;SuperJob',\n",
       "       'HH;Хабр Карьера;Careerspace;Каналы/чаты с вакансиями в ТГ;Нетворкинг',\n",
       "       'LinkedIn', 'HH;LinkedIn;Хабр Карьера;Каналы/чаты от ЯП',\n",
       "       'HH;Работа.ру;LinkedIn;Careerspace;Каналы/чаты с вакансиями в ТГ;Каналы/чаты от ЯП',\n",
       "       'HH;',\n",
       "       'HH;Хабр Карьера;GeekJob;Каналы/чаты с вакансиями в ТГ;Каналы/чаты от ЯП',\n",
       "       'HH;Хабр Карьера',\n",
       "       'HH;SuperJob;Хабр Карьера;Careerspace;Каналы/чаты с вакансиями в ТГ;Каналы/чаты от ЯП',\n",
       "       'HH;Careerspace;Каналы/чаты с вакансиями в ТГ;Каналы/чаты от ЯП',\n",
       "       'HH;SuperJob;LinkedIn;Хабр Карьера;Каналы/чаты с вакансиями в ТГ;Нетворкинг',\n",
       "       'HH;SuperJob;Каналы/чаты с вакансиями в ТГ;Каналы/чаты от ЯП',\n",
       "       'Каналы/чаты от ЯП',\n",
       "       'HH;Работа.ру;LinkedIn;Хабр Карьера;Каналы/чаты с вакансиями в ТГ;Каналы/чаты от ЯП',\n",
       "       'HH;SuperJob;Каналы/чаты с вакансиями в ТГ'], dtype=object)"
      ]
     },
     "execution_count": 10,
     "metadata": {},
     "output_type": "execute_result"
    }
   ],
   "source": [
    "df.search_tools.unique()"
   ]
  },
  {
   "cell_type": "code",
   "execution_count": 11,
   "id": "f3a88721",
   "metadata": {
    "scrolled": true
   },
   "outputs": [
    {
     "data": {
      "text/html": [
       "<div>\n",
       "<style scoped>\n",
       "    .dataframe tbody tr th:only-of-type {\n",
       "        vertical-align: middle;\n",
       "    }\n",
       "\n",
       "    .dataframe tbody tr th {\n",
       "        vertical-align: top;\n",
       "    }\n",
       "\n",
       "    .dataframe thead th {\n",
       "        text-align: right;\n",
       "    }\n",
       "</style>\n",
       "<table border=\"1\" class=\"dataframe\">\n",
       "  <thead>\n",
       "    <tr style=\"text-align: right;\">\n",
       "      <th></th>\n",
       "      <th>id</th>\n",
       "      <th>search_tools</th>\n",
       "    </tr>\n",
       "  </thead>\n",
       "  <tbody>\n",
       "    <tr>\n",
       "      <th>0</th>\n",
       "      <td>1053822118160</td>\n",
       "      <td>HH</td>\n",
       "    </tr>\n",
       "    <tr>\n",
       "      <th>1</th>\n",
       "      <td>1053822118192</td>\n",
       "      <td>HH;SuperJob;LinkedIn;Хабр Карьера;Careerspace;...</td>\n",
       "    </tr>\n",
       "    <tr>\n",
       "      <th>2</th>\n",
       "      <td>1053822118224</td>\n",
       "      <td>HH</td>\n",
       "    </tr>\n",
       "    <tr>\n",
       "      <th>3</th>\n",
       "      <td>1053822118256</td>\n",
       "      <td>HH;Каналы/чаты с вакансиями в ТГ;Каналы/чаты о...</td>\n",
       "    </tr>\n",
       "    <tr>\n",
       "      <th>4</th>\n",
       "      <td>1053822118288</td>\n",
       "      <td>Не искал</td>\n",
       "    </tr>\n",
       "  </tbody>\n",
       "</table>\n",
       "</div>"
      ],
      "text/plain": [
       "              id                                       search_tools\n",
       "0  1053822118160                                                 HH\n",
       "1  1053822118192  HH;SuperJob;LinkedIn;Хабр Карьера;Careerspace;...\n",
       "2  1053822118224                                                 HH\n",
       "3  1053822118256  HH;Каналы/чаты с вакансиями в ТГ;Каналы/чаты о...\n",
       "4  1053822118288                                           Не искал"
      ]
     },
     "execution_count": 11,
     "metadata": {},
     "output_type": "execute_result"
    }
   ],
   "source": [
    "df_search_tools = df[['id', 'search_tools']]\n",
    "df_search_tools.head()"
   ]
  },
  {
   "cell_type": "code",
   "execution_count": 12,
   "id": "4556a554",
   "metadata": {},
   "outputs": [],
   "source": [
    "df_search_tools['search_tools'] = [x.split(sep=';') for x in df_search_tools['search_tools']]"
   ]
  },
  {
   "cell_type": "code",
   "execution_count": 13,
   "id": "1e2b29ee",
   "metadata": {},
   "outputs": [],
   "source": [
    "df_search_tools = df_search_tools.explode('search_tools').reset_index(drop=True)"
   ]
  },
  {
   "cell_type": "code",
   "execution_count": 14,
   "id": "786f28f4",
   "metadata": {},
   "outputs": [
    {
     "data": {
      "text/html": [
       "<div>\n",
       "<style scoped>\n",
       "    .dataframe tbody tr th:only-of-type {\n",
       "        vertical-align: middle;\n",
       "    }\n",
       "\n",
       "    .dataframe tbody tr th {\n",
       "        vertical-align: top;\n",
       "    }\n",
       "\n",
       "    .dataframe thead th {\n",
       "        text-align: right;\n",
       "    }\n",
       "</style>\n",
       "<table border=\"1\" class=\"dataframe\">\n",
       "  <thead>\n",
       "    <tr style=\"text-align: right;\">\n",
       "      <th></th>\n",
       "      <th>id</th>\n",
       "      <th>search_tools</th>\n",
       "    </tr>\n",
       "  </thead>\n",
       "  <tbody>\n",
       "    <tr>\n",
       "      <th>0</th>\n",
       "      <td>1053822118160</td>\n",
       "      <td>HH</td>\n",
       "    </tr>\n",
       "    <tr>\n",
       "      <th>1</th>\n",
       "      <td>1053822118192</td>\n",
       "      <td>HH</td>\n",
       "    </tr>\n",
       "    <tr>\n",
       "      <th>2</th>\n",
       "      <td>1053822118192</td>\n",
       "      <td>SuperJob</td>\n",
       "    </tr>\n",
       "    <tr>\n",
       "      <th>3</th>\n",
       "      <td>1053822118192</td>\n",
       "      <td>LinkedIn</td>\n",
       "    </tr>\n",
       "    <tr>\n",
       "      <th>4</th>\n",
       "      <td>1053822118192</td>\n",
       "      <td>Хабр Карьера</td>\n",
       "    </tr>\n",
       "    <tr>\n",
       "      <th>...</th>\n",
       "      <td>...</td>\n",
       "      <td>...</td>\n",
       "    </tr>\n",
       "    <tr>\n",
       "      <th>358</th>\n",
       "      <td>1053822310608</td>\n",
       "      <td>SuperJob</td>\n",
       "    </tr>\n",
       "    <tr>\n",
       "      <th>359</th>\n",
       "      <td>1053822310608</td>\n",
       "      <td>Каналы/чаты с вакансиями в ТГ</td>\n",
       "    </tr>\n",
       "    <tr>\n",
       "      <th>360</th>\n",
       "      <td>1053822310640</td>\n",
       "      <td>HH</td>\n",
       "    </tr>\n",
       "    <tr>\n",
       "      <th>361</th>\n",
       "      <td>1053822310640</td>\n",
       "      <td>Хабр Карьера</td>\n",
       "    </tr>\n",
       "    <tr>\n",
       "      <th>362</th>\n",
       "      <td>1053822310672</td>\n",
       "      <td>HH</td>\n",
       "    </tr>\n",
       "  </tbody>\n",
       "</table>\n",
       "<p>363 rows × 2 columns</p>\n",
       "</div>"
      ],
      "text/plain": [
       "                id                   search_tools\n",
       "0    1053822118160                             HH\n",
       "1    1053822118192                             HH\n",
       "2    1053822118192                       SuperJob\n",
       "3    1053822118192                       LinkedIn\n",
       "4    1053822118192                   Хабр Карьера\n",
       "..             ...                            ...\n",
       "358  1053822310608                       SuperJob\n",
       "359  1053822310608  Каналы/чаты с вакансиями в ТГ\n",
       "360  1053822310640                             HH\n",
       "361  1053822310640                   Хабр Карьера\n",
       "362  1053822310672                             HH\n",
       "\n",
       "[363 rows x 2 columns]"
      ]
     },
     "execution_count": 14,
     "metadata": {},
     "output_type": "execute_result"
    }
   ],
   "source": [
    "df_search_tools"
   ]
  },
  {
   "cell_type": "markdown",
   "id": "00052043",
   "metadata": {},
   "source": [
    "## Выгрузка наборов данных в .csv"
   ]
  },
  {
   "cell_type": "code",
   "execution_count": 15,
   "id": "c76bde0d",
   "metadata": {},
   "outputs": [],
   "source": [
    "# общий набор данных\n",
    "df.to_csv('data_employment.csv', index=False)"
   ]
  },
  {
   "cell_type": "code",
   "execution_count": 16,
   "id": "1233da4e",
   "metadata": {},
   "outputs": [],
   "source": [
    "# набор данных с информацией по инструментам для поиска работы\n",
    "df_search_tools.to_csv('data_search_tools.csv', index=False)"
   ]
  }
 ],
 "metadata": {
  "kernelspec": {
   "display_name": "Python 3 (ipykernel)",
   "language": "python",
   "name": "python3"
  },
  "language_info": {
   "codemirror_mode": {
    "name": "ipython",
    "version": 3
   },
   "file_extension": ".py",
   "mimetype": "text/x-python",
   "name": "python",
   "nbconvert_exporter": "python",
   "pygments_lexer": "ipython3",
   "version": "3.9.13"
  },
  "toc": {
   "base_numbering": 1,
   "nav_menu": {},
   "number_sections": true,
   "sideBar": true,
   "skip_h1_title": true,
   "title_cell": "Table of Contents",
   "title_sidebar": "Contents",
   "toc_cell": false,
   "toc_position": {
    "height": "calc(100% - 180px)",
    "left": "10px",
    "top": "150px",
    "width": "307.2px"
   },
   "toc_section_display": true,
   "toc_window_display": false
  }
 },
 "nbformat": 4,
 "nbformat_minor": 5
}
